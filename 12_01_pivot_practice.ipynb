{
 "cells": [
  {
   "cell_type": "markdown",
   "metadata": {},
   "source": [
    "🦜 Uncomment the following code for the [TidyTuesday Bird Bath dataset](https://github.com/rfordatascience/tidytuesday/tree/master/data/2021/2021-08-31).🦉"
   ]
  },
  {
   "cell_type": "code",
   "execution_count": 1,
   "metadata": {
    "tags": []
   },
   "outputs": [
    {
     "name": "stderr",
     "output_type": "stream",
     "text": [
      "Warning message:\n",
      "“Failed to locate timezone database”\n",
      "── \u001b[1mAttaching core tidyverse packages\u001b[22m ──────────────────────── tidyverse 2.0.0 ──\n",
      "\u001b[32m✔\u001b[39m \u001b[34mdplyr    \u001b[39m 1.1.3     \u001b[32m✔\u001b[39m \u001b[34mreadr    \u001b[39m 2.1.4\n",
      "\u001b[32m✔\u001b[39m \u001b[34mforcats  \u001b[39m 1.0.0     \u001b[32m✔\u001b[39m \u001b[34mstringr  \u001b[39m 1.5.0\n",
      "\u001b[32m✔\u001b[39m \u001b[34mggplot2  \u001b[39m 3.4.3     \u001b[32m✔\u001b[39m \u001b[34mtibble   \u001b[39m 3.2.1\n",
      "\u001b[32m✔\u001b[39m \u001b[34mlubridate\u001b[39m 1.9.2     \u001b[32m✔\u001b[39m \u001b[34mtidyr    \u001b[39m 1.3.0\n",
      "\u001b[32m✔\u001b[39m \u001b[34mpurrr    \u001b[39m 1.0.2     \n",
      "── \u001b[1mConflicts\u001b[22m ────────────────────────────────────────── tidyverse_conflicts() ──\n",
      "\u001b[31m✖\u001b[39m \u001b[34mdplyr\u001b[39m::\u001b[32mfilter()\u001b[39m masks \u001b[34mstats\u001b[39m::filter()\n",
      "\u001b[31m✖\u001b[39m \u001b[34mdplyr\u001b[39m::\u001b[32mlag()\u001b[39m    masks \u001b[34mstats\u001b[39m::lag()\n",
      "\u001b[36mℹ\u001b[39m Use the conflicted package (\u001b[3m\u001b[34m<http://conflicted.r-lib.org/>\u001b[39m\u001b[23m) to force all conflicts to become errors\n"
     ]
    }
   ],
   "source": [
    "library('tidyverse')"
   ]
  },
  {
   "cell_type": "code",
   "execution_count": 2,
   "metadata": {
    "tags": []
   },
   "outputs": [],
   "source": [
    "df_birdbath = read_csv(\n",
    "     'https://github.com/rfordatascience/tidytuesday/blob/master/data/2021/2021-08-31/bird_baths.csv?raw=true',\n",
    "     col_types = cols()\n",
    ")"
   ]
  },
  {
   "cell_type": "markdown",
   "metadata": {},
   "source": [
    "Each row represents the number of times a type of bird was observed at a bird bath in the survey year."
   ]
  },
  {
   "cell_type": "markdown",
   "metadata": {},
   "source": [
    "We want to just work with the most numerous birds for baths that have been categorized as \"Urban\" or \"Rural.\""
   ]
  },
  {
   "cell_type": "markdown",
   "metadata": {},
   "source": [
    "Find the top fifteen bird types by total `bird_count` after filtering out baths where `urban_rural` category is not provided. Capture this vector with a variable called `top15_bird_types`. \n",
    "\n",
    "Hint: remember `pull` and `slice_max` "
   ]
  },
  {
   "cell_type": "code",
   "execution_count": 15,
   "metadata": {
    "tags": []
   },
   "outputs": [
    {
     "data": {
      "text/html": [
       "<table class=\"dataframe\">\n",
       "<caption>A tibble: 169 × 2</caption>\n",
       "<thead>\n",
       "\t<tr><th scope=col>bird_type</th><th scope=col>total_bird_count</th></tr>\n",
       "\t<tr><th scope=col>&lt;chr&gt;</th><th scope=col>&lt;dbl&gt;</th></tr>\n",
       "</thead>\n",
       "<tbody>\n",
       "\t<tr><td>Noisy Miner             </td><td>292</td></tr>\n",
       "\t<tr><td>Australian Magpie       </td><td>262</td></tr>\n",
       "\t<tr><td>Rainbow Lorikeet        </td><td>235</td></tr>\n",
       "\t<tr><td>Red Wattlebird          </td><td>171</td></tr>\n",
       "\t<tr><td>Superb Fairy-wren       </td><td>170</td></tr>\n",
       "\t<tr><td>Magpie-lark             </td><td>160</td></tr>\n",
       "\t<tr><td>Pied Currawong          </td><td>157</td></tr>\n",
       "\t<tr><td>Crimson Rosella         </td><td>155</td></tr>\n",
       "\t<tr><td>Eastern Spinebill       </td><td>153</td></tr>\n",
       "\t<tr><td>Spotted Dove            </td><td>151</td></tr>\n",
       "\t<tr><td>Lewin's Honeyeater      </td><td>133</td></tr>\n",
       "\t<tr><td>Satin Bowerbird         </td><td>131</td></tr>\n",
       "\t<tr><td>Crested Pigeon          </td><td>125</td></tr>\n",
       "\t<tr><td>Grey Fantail            </td><td>123</td></tr>\n",
       "\t<tr><td>Red-browed Finch        </td><td>117</td></tr>\n",
       "\t<tr><td>Little Wattlebird       </td><td>116</td></tr>\n",
       "\t<tr><td>Willie Wagtail          </td><td>114</td></tr>\n",
       "\t<tr><td>Grey Butcherbird        </td><td>109</td></tr>\n",
       "\t<tr><td>House Sparrow           </td><td>106</td></tr>\n",
       "\t<tr><td>Common Myna             </td><td>103</td></tr>\n",
       "\t<tr><td>New Holland Honeyeater  </td><td>100</td></tr>\n",
       "\t<tr><td>Common Blackbird        </td><td> 99</td></tr>\n",
       "\t<tr><td>Brown Thornbill         </td><td> 93</td></tr>\n",
       "\t<tr><td>Yellow-faced Honeyeater </td><td> 91</td></tr>\n",
       "\t<tr><td>Eastern Yellow Robin    </td><td> 89</td></tr>\n",
       "\t<tr><td>Sulphur-crested Cockatoo</td><td> 82</td></tr>\n",
       "\t<tr><td>Silvereye               </td><td> 80</td></tr>\n",
       "\t<tr><td>Eastern Rosella         </td><td> 79</td></tr>\n",
       "\t<tr><td>White-browed Scrubwren  </td><td> 73</td></tr>\n",
       "\t<tr><td>Galah                   </td><td> 66</td></tr>\n",
       "\t<tr><td>⋮</td><td>⋮</td></tr>\n",
       "\t<tr><td>Rockwarbler              </td><td>2</td></tr>\n",
       "\t<tr><td>Spectacled Monarch       </td><td>2</td></tr>\n",
       "\t<tr><td>Western Gerygone         </td><td>2</td></tr>\n",
       "\t<tr><td>White-throated Gerygone  </td><td>2</td></tr>\n",
       "\t<tr><td>Black Butcherbird        </td><td>1</td></tr>\n",
       "\t<tr><td>Black-faced Monarch      </td><td>1</td></tr>\n",
       "\t<tr><td>Blue-winged Kookaburra   </td><td>1</td></tr>\n",
       "\t<tr><td>Brown Goshawk            </td><td>1</td></tr>\n",
       "\t<tr><td>Collared Sparrowhawk     </td><td>1</td></tr>\n",
       "\t<tr><td>Fan-tailed Cuckoo        </td><td>1</td></tr>\n",
       "\t<tr><td>Flame Robin              </td><td>1</td></tr>\n",
       "\t<tr><td>Forest Raven             </td><td>1</td></tr>\n",
       "\t<tr><td>Hooded Robin             </td><td>1</td></tr>\n",
       "\t<tr><td>Little Shrike-thrush     </td><td>1</td></tr>\n",
       "\t<tr><td>Major Mitchell's Cockatoo</td><td>1</td></tr>\n",
       "\t<tr><td>Mangrove Gerygone        </td><td>1</td></tr>\n",
       "\t<tr><td>Mangrove Honeyeater      </td><td>1</td></tr>\n",
       "\t<tr><td>Pale-yellow Robin        </td><td>1</td></tr>\n",
       "\t<tr><td>Purple Swamphen          </td><td>1</td></tr>\n",
       "\t<tr><td>Purple-crowned Lorikeet  </td><td>1</td></tr>\n",
       "\t<tr><td>Satin Flycatcher         </td><td>1</td></tr>\n",
       "\t<tr><td>Song Thrush              </td><td>1</td></tr>\n",
       "\t<tr><td>Southern Whiteface       </td><td>1</td></tr>\n",
       "\t<tr><td>Striated Pardalote       </td><td>1</td></tr>\n",
       "\t<tr><td>Superb Lyrebird          </td><td>1</td></tr>\n",
       "\t<tr><td>Tawny-crowned Honeyeater </td><td>1</td></tr>\n",
       "\t<tr><td>Tete                     </td><td>1</td></tr>\n",
       "\t<tr><td>Varied Triller           </td><td>1</td></tr>\n",
       "\t<tr><td>Welcome Swallow          </td><td>1</td></tr>\n",
       "\t<tr><td>Red-tailed Black Cockatoo</td><td>0</td></tr>\n",
       "</tbody>\n",
       "</table>\n"
      ],
      "text/latex": [
       "A tibble: 169 × 2\n",
       "\\begin{tabular}{ll}\n",
       " bird\\_type & total\\_bird\\_count\\\\\n",
       " <chr> & <dbl>\\\\\n",
       "\\hline\n",
       "\t Noisy Miner              & 292\\\\\n",
       "\t Australian Magpie        & 262\\\\\n",
       "\t Rainbow Lorikeet         & 235\\\\\n",
       "\t Red Wattlebird           & 171\\\\\n",
       "\t Superb Fairy-wren        & 170\\\\\n",
       "\t Magpie-lark              & 160\\\\\n",
       "\t Pied Currawong           & 157\\\\\n",
       "\t Crimson Rosella          & 155\\\\\n",
       "\t Eastern Spinebill        & 153\\\\\n",
       "\t Spotted Dove             & 151\\\\\n",
       "\t Lewin's Honeyeater       & 133\\\\\n",
       "\t Satin Bowerbird          & 131\\\\\n",
       "\t Crested Pigeon           & 125\\\\\n",
       "\t Grey Fantail             & 123\\\\\n",
       "\t Red-browed Finch         & 117\\\\\n",
       "\t Little Wattlebird        & 116\\\\\n",
       "\t Willie Wagtail           & 114\\\\\n",
       "\t Grey Butcherbird         & 109\\\\\n",
       "\t House Sparrow            & 106\\\\\n",
       "\t Common Myna              & 103\\\\\n",
       "\t New Holland Honeyeater   & 100\\\\\n",
       "\t Common Blackbird         &  99\\\\\n",
       "\t Brown Thornbill          &  93\\\\\n",
       "\t Yellow-faced Honeyeater  &  91\\\\\n",
       "\t Eastern Yellow Robin     &  89\\\\\n",
       "\t Sulphur-crested Cockatoo &  82\\\\\n",
       "\t Silvereye                &  80\\\\\n",
       "\t Eastern Rosella          &  79\\\\\n",
       "\t White-browed Scrubwren   &  73\\\\\n",
       "\t Galah                    &  66\\\\\n",
       "\t ⋮ & ⋮\\\\\n",
       "\t Rockwarbler               & 2\\\\\n",
       "\t Spectacled Monarch        & 2\\\\\n",
       "\t Western Gerygone          & 2\\\\\n",
       "\t White-throated Gerygone   & 2\\\\\n",
       "\t Black Butcherbird         & 1\\\\\n",
       "\t Black-faced Monarch       & 1\\\\\n",
       "\t Blue-winged Kookaburra    & 1\\\\\n",
       "\t Brown Goshawk             & 1\\\\\n",
       "\t Collared Sparrowhawk      & 1\\\\\n",
       "\t Fan-tailed Cuckoo         & 1\\\\\n",
       "\t Flame Robin               & 1\\\\\n",
       "\t Forest Raven              & 1\\\\\n",
       "\t Hooded Robin              & 1\\\\\n",
       "\t Little Shrike-thrush      & 1\\\\\n",
       "\t Major Mitchell's Cockatoo & 1\\\\\n",
       "\t Mangrove Gerygone         & 1\\\\\n",
       "\t Mangrove Honeyeater       & 1\\\\\n",
       "\t Pale-yellow Robin         & 1\\\\\n",
       "\t Purple Swamphen           & 1\\\\\n",
       "\t Purple-crowned Lorikeet   & 1\\\\\n",
       "\t Satin Flycatcher          & 1\\\\\n",
       "\t Song Thrush               & 1\\\\\n",
       "\t Southern Whiteface        & 1\\\\\n",
       "\t Striated Pardalote        & 1\\\\\n",
       "\t Superb Lyrebird           & 1\\\\\n",
       "\t Tawny-crowned Honeyeater  & 1\\\\\n",
       "\t Tete                      & 1\\\\\n",
       "\t Varied Triller            & 1\\\\\n",
       "\t Welcome Swallow           & 1\\\\\n",
       "\t Red-tailed Black Cockatoo & 0\\\\\n",
       "\\end{tabular}\n"
      ],
      "text/markdown": [
       "\n",
       "A tibble: 169 × 2\n",
       "\n",
       "| bird_type &lt;chr&gt; | total_bird_count &lt;dbl&gt; |\n",
       "|---|---|\n",
       "| Noisy Miner              | 292 |\n",
       "| Australian Magpie        | 262 |\n",
       "| Rainbow Lorikeet         | 235 |\n",
       "| Red Wattlebird           | 171 |\n",
       "| Superb Fairy-wren        | 170 |\n",
       "| Magpie-lark              | 160 |\n",
       "| Pied Currawong           | 157 |\n",
       "| Crimson Rosella          | 155 |\n",
       "| Eastern Spinebill        | 153 |\n",
       "| Spotted Dove             | 151 |\n",
       "| Lewin's Honeyeater       | 133 |\n",
       "| Satin Bowerbird          | 131 |\n",
       "| Crested Pigeon           | 125 |\n",
       "| Grey Fantail             | 123 |\n",
       "| Red-browed Finch         | 117 |\n",
       "| Little Wattlebird        | 116 |\n",
       "| Willie Wagtail           | 114 |\n",
       "| Grey Butcherbird         | 109 |\n",
       "| House Sparrow            | 106 |\n",
       "| Common Myna              | 103 |\n",
       "| New Holland Honeyeater   | 100 |\n",
       "| Common Blackbird         |  99 |\n",
       "| Brown Thornbill          |  93 |\n",
       "| Yellow-faced Honeyeater  |  91 |\n",
       "| Eastern Yellow Robin     |  89 |\n",
       "| Sulphur-crested Cockatoo |  82 |\n",
       "| Silvereye                |  80 |\n",
       "| Eastern Rosella          |  79 |\n",
       "| White-browed Scrubwren   |  73 |\n",
       "| Galah                    |  66 |\n",
       "| ⋮ | ⋮ |\n",
       "| Rockwarbler               | 2 |\n",
       "| Spectacled Monarch        | 2 |\n",
       "| Western Gerygone          | 2 |\n",
       "| White-throated Gerygone   | 2 |\n",
       "| Black Butcherbird         | 1 |\n",
       "| Black-faced Monarch       | 1 |\n",
       "| Blue-winged Kookaburra    | 1 |\n",
       "| Brown Goshawk             | 1 |\n",
       "| Collared Sparrowhawk      | 1 |\n",
       "| Fan-tailed Cuckoo         | 1 |\n",
       "| Flame Robin               | 1 |\n",
       "| Forest Raven              | 1 |\n",
       "| Hooded Robin              | 1 |\n",
       "| Little Shrike-thrush      | 1 |\n",
       "| Major Mitchell's Cockatoo | 1 |\n",
       "| Mangrove Gerygone         | 1 |\n",
       "| Mangrove Honeyeater       | 1 |\n",
       "| Pale-yellow Robin         | 1 |\n",
       "| Purple Swamphen           | 1 |\n",
       "| Purple-crowned Lorikeet   | 1 |\n",
       "| Satin Flycatcher          | 1 |\n",
       "| Song Thrush               | 1 |\n",
       "| Southern Whiteface        | 1 |\n",
       "| Striated Pardalote        | 1 |\n",
       "| Superb Lyrebird           | 1 |\n",
       "| Tawny-crowned Honeyeater  | 1 |\n",
       "| Tete                      | 1 |\n",
       "| Varied Triller            | 1 |\n",
       "| Welcome Swallow           | 1 |\n",
       "| Red-tailed Black Cockatoo | 0 |\n",
       "\n"
      ],
      "text/plain": [
       "    bird_type                 total_bird_count\n",
       "1   Noisy Miner               292             \n",
       "2   Australian Magpie         262             \n",
       "3   Rainbow Lorikeet          235             \n",
       "4   Red Wattlebird            171             \n",
       "5   Superb Fairy-wren         170             \n",
       "6   Magpie-lark               160             \n",
       "7   Pied Currawong            157             \n",
       "8   Crimson Rosella           155             \n",
       "9   Eastern Spinebill         153             \n",
       "10  Spotted Dove              151             \n",
       "11  Lewin's Honeyeater        133             \n",
       "12  Satin Bowerbird           131             \n",
       "13  Crested Pigeon            125             \n",
       "14  Grey Fantail              123             \n",
       "15  Red-browed Finch          117             \n",
       "16  Little Wattlebird         116             \n",
       "17  Willie Wagtail            114             \n",
       "18  Grey Butcherbird          109             \n",
       "19  House Sparrow             106             \n",
       "20  Common Myna               103             \n",
       "21  New Holland Honeyeater    100             \n",
       "22  Common Blackbird           99             \n",
       "23  Brown Thornbill            93             \n",
       "24  Yellow-faced Honeyeater    91             \n",
       "25  Eastern Yellow Robin       89             \n",
       "26  Sulphur-crested Cockatoo   82             \n",
       "27  Silvereye                  80             \n",
       "28  Eastern Rosella            79             \n",
       "29  White-browed Scrubwren     73             \n",
       "30  Galah                      66             \n",
       "⋮   ⋮                         ⋮               \n",
       "140 Rockwarbler               2               \n",
       "141 Spectacled Monarch        2               \n",
       "142 Western Gerygone          2               \n",
       "143 White-throated Gerygone   2               \n",
       "144 Black Butcherbird         1               \n",
       "145 Black-faced Monarch       1               \n",
       "146 Blue-winged Kookaburra    1               \n",
       "147 Brown Goshawk             1               \n",
       "148 Collared Sparrowhawk      1               \n",
       "149 Fan-tailed Cuckoo         1               \n",
       "150 Flame Robin               1               \n",
       "151 Forest Raven              1               \n",
       "152 Hooded Robin              1               \n",
       "153 Little Shrike-thrush      1               \n",
       "154 Major Mitchell's Cockatoo 1               \n",
       "155 Mangrove Gerygone         1               \n",
       "156 Mangrove Honeyeater       1               \n",
       "157 Pale-yellow Robin         1               \n",
       "158 Purple Swamphen           1               \n",
       "159 Purple-crowned Lorikeet   1               \n",
       "160 Satin Flycatcher          1               \n",
       "161 Song Thrush               1               \n",
       "162 Southern Whiteface        1               \n",
       "163 Striated Pardalote        1               \n",
       "164 Superb Lyrebird           1               \n",
       "165 Tawny-crowned Honeyeater  1               \n",
       "166 Tete                      1               \n",
       "167 Varied Triller            1               \n",
       "168 Welcome Swallow           1               \n",
       "169 Red-tailed Black Cockatoo 0               "
      ]
     },
     "metadata": {},
     "output_type": "display_data"
    }
   ],
   "source": [
    "df_birdbath |>\n",
    "    filter(is.na(urban_rural)) |>\n",
    "    group_by(bird_type) |>\n",
    "    summarize(total_bird_count = sum(bird_count)) |>\n",
    "    arrange(desc(total_bird_count))\n",
    "#instead of group_by and summarize, can use count: count(bird_tytpe, wt = bird_count)\n"
   ]
  },
  {
   "cell_type": "code",
   "execution_count": 17,
   "metadata": {
    "tags": []
   },
   "outputs": [
    {
     "data": {
      "text/html": [
       "<style>\n",
       ".list-inline {list-style: none; margin:0; padding: 0}\n",
       ".list-inline>li {display: inline-block}\n",
       ".list-inline>li:not(:last-child)::after {content: \"\\00b7\"; padding: 0 .5ex}\n",
       "</style>\n",
       "<ol class=list-inline><li>'Noisy Miner'</li><li>'Australian Magpie'</li><li>'Rainbow Lorikeet'</li><li>'Red Wattlebird'</li><li>'Superb Fairy-wren'</li><li>'Magpie-lark'</li><li>'Pied Currawong'</li><li>'Crimson Rosella'</li><li>'Eastern Spinebill'</li><li>'Spotted Dove'</li><li>'Lewin\\'s Honeyeater'</li><li>'Satin Bowerbird'</li><li>'Crested Pigeon'</li><li>'Grey Fantail'</li><li>'Red-browed Finch'</li></ol>\n"
      ],
      "text/latex": [
       "\\begin{enumerate*}\n",
       "\\item 'Noisy Miner'\n",
       "\\item 'Australian Magpie'\n",
       "\\item 'Rainbow Lorikeet'\n",
       "\\item 'Red Wattlebird'\n",
       "\\item 'Superb Fairy-wren'\n",
       "\\item 'Magpie-lark'\n",
       "\\item 'Pied Currawong'\n",
       "\\item 'Crimson Rosella'\n",
       "\\item 'Eastern Spinebill'\n",
       "\\item 'Spotted Dove'\n",
       "\\item 'Lewin\\textbackslash{}'s Honeyeater'\n",
       "\\item 'Satin Bowerbird'\n",
       "\\item 'Crested Pigeon'\n",
       "\\item 'Grey Fantail'\n",
       "\\item 'Red-browed Finch'\n",
       "\\end{enumerate*}\n"
      ],
      "text/markdown": [
       "1. 'Noisy Miner'\n",
       "2. 'Australian Magpie'\n",
       "3. 'Rainbow Lorikeet'\n",
       "4. 'Red Wattlebird'\n",
       "5. 'Superb Fairy-wren'\n",
       "6. 'Magpie-lark'\n",
       "7. 'Pied Currawong'\n",
       "8. 'Crimson Rosella'\n",
       "9. 'Eastern Spinebill'\n",
       "10. 'Spotted Dove'\n",
       "11. 'Lewin\\'s Honeyeater'\n",
       "12. 'Satin Bowerbird'\n",
       "13. 'Crested Pigeon'\n",
       "14. 'Grey Fantail'\n",
       "15. 'Red-browed Finch'\n",
       "\n",
       "\n"
      ],
      "text/plain": [
       " [1] \"Noisy Miner\"        \"Australian Magpie\"  \"Rainbow Lorikeet\"  \n",
       " [4] \"Red Wattlebird\"     \"Superb Fairy-wren\"  \"Magpie-lark\"       \n",
       " [7] \"Pied Currawong\"     \"Crimson Rosella\"    \"Eastern Spinebill\" \n",
       "[10] \"Spotted Dove\"       \"Lewin's Honeyeater\" \"Satin Bowerbird\"   \n",
       "[13] \"Crested Pigeon\"     \"Grey Fantail\"       \"Red-browed Finch\"  "
      ]
     },
     "metadata": {},
     "output_type": "display_data"
    }
   ],
   "source": [
    "top15_bird_types = df_birdbath |>\n",
    "    filter(!is.na(urban_rural)) |>\n",
    "    group_by(bird_type) |>\n",
    "    summarize(total_bird_count = sum(bird_count)) |>\n",
    "    slice_max(order_by = total_bird_count, n = 15) |>\n",
    "    pull(bird_type)\n",
    "\n",
    "top15_bird_types"
   ]
  },
  {
   "cell_type": "markdown",
   "metadata": {},
   "source": [
    "1. Create a table of just the top birds using the vector of top 15 bird types to filter. Exclude rows with `NA` vlues for `urban_rural`.\n",
    "1. Group by `bird_type` and `urban_rural` and find the mean `bird_count` for each group.\n",
    "1. Sort the factor levels for `bird_type` by `bird_count` value at `Rural` baths.\n",
    "1. Capture the output of these operations under a new variable.\n",
    "\n",
    "Your final table will have three columns: 1) `bird_type`, 2) `urban_rural` and 3) `mean_bird_count`"
   ]
  },
  {
   "cell_type": "code",
   "execution_count": 25,
   "metadata": {
    "tags": []
   },
   "outputs": [
    {
     "data": {
      "text/html": [
       "<table class=\"dataframe\">\n",
       "<caption>A tibble: 6 × 3</caption>\n",
       "<thead>\n",
       "\t<tr><th scope=col>bird_type</th><th scope=col>urban_rural</th><th scope=col>mean_bird_count</th></tr>\n",
       "\t<tr><th scope=col>&lt;chr&gt;</th><th scope=col>&lt;chr&gt;</th><th scope=col>&lt;dbl&gt;</th></tr>\n",
       "</thead>\n",
       "<tbody>\n",
       "\t<tr><td>Spotted Dove    </td><td>Rural</td><td>0.03741497</td></tr>\n",
       "\t<tr><td>Crested Pigeon  </td><td>Rural</td><td>0.09523810</td></tr>\n",
       "\t<tr><td>Pied Currawong  </td><td>Rural</td><td>0.10884354</td></tr>\n",
       "\t<tr><td>Magpie-lark     </td><td>Rural</td><td>0.11224490</td></tr>\n",
       "\t<tr><td>Red Wattlebird  </td><td>Rural</td><td>0.11904762</td></tr>\n",
       "\t<tr><td>Rainbow Lorikeet</td><td>Rural</td><td>0.13605442</td></tr>\n",
       "</tbody>\n",
       "</table>\n"
      ],
      "text/latex": [
       "A tibble: 6 × 3\n",
       "\\begin{tabular}{lll}\n",
       " bird\\_type & urban\\_rural & mean\\_bird\\_count\\\\\n",
       " <chr> & <chr> & <dbl>\\\\\n",
       "\\hline\n",
       "\t Spotted Dove     & Rural & 0.03741497\\\\\n",
       "\t Crested Pigeon   & Rural & 0.09523810\\\\\n",
       "\t Pied Currawong   & Rural & 0.10884354\\\\\n",
       "\t Magpie-lark      & Rural & 0.11224490\\\\\n",
       "\t Red Wattlebird   & Rural & 0.11904762\\\\\n",
       "\t Rainbow Lorikeet & Rural & 0.13605442\\\\\n",
       "\\end{tabular}\n"
      ],
      "text/markdown": [
       "\n",
       "A tibble: 6 × 3\n",
       "\n",
       "| bird_type &lt;chr&gt; | urban_rural &lt;chr&gt; | mean_bird_count &lt;dbl&gt; |\n",
       "|---|---|---|\n",
       "| Spotted Dove     | Rural | 0.03741497 |\n",
       "| Crested Pigeon   | Rural | 0.09523810 |\n",
       "| Pied Currawong   | Rural | 0.10884354 |\n",
       "| Magpie-lark      | Rural | 0.11224490 |\n",
       "| Red Wattlebird   | Rural | 0.11904762 |\n",
       "| Rainbow Lorikeet | Rural | 0.13605442 |\n",
       "\n"
      ],
      "text/plain": [
       "  bird_type        urban_rural mean_bird_count\n",
       "1 Spotted Dove     Rural       0.03741497     \n",
       "2 Crested Pigeon   Rural       0.09523810     \n",
       "3 Pied Currawong   Rural       0.10884354     \n",
       "4 Magpie-lark      Rural       0.11224490     \n",
       "5 Red Wattlebird   Rural       0.11904762     \n",
       "6 Rainbow Lorikeet Rural       0.13605442     "
      ]
     },
     "metadata": {},
     "output_type": "display_data"
    }
   ],
   "source": [
    "df_birdbath2 = df_birdbath |>\n",
    "    filter(!is.na(urban_rural), bird_type %in% top15_bird_types) |>\n",
    "    group_by(bird_type, urban_rural) |>\n",
    "    summarize(mean_bird_count = mean(bird_count), .groups = 'drop') |>\n",
    "    arrange(urban_rural, mean_bird_count) |>\n",
    "    mutate(bird_type = fct_inorder(bird_type))\n",
    "\n",
    "df_birdbath2 |> head()"
   ]
  },
  {
   "cell_type": "code",
   "execution_count": 28,
   "metadata": {
    "tags": []
   },
   "outputs": [
    {
     "data": {
      "text/html": [
       "<style>\n",
       ".list-inline {list-style: none; margin:0; padding: 0}\n",
       ".list-inline>li {display: inline-block}\n",
       ".list-inline>li:not(:last-child)::after {content: \"\\00b7\"; padding: 0 .5ex}\n",
       "</style>\n",
       "<ol class=list-inline><li>'Spotted Dove'</li><li>'Crested Pigeon'</li><li>'Pied Currawong'</li><li>'Magpie-lark'</li><li>'Red Wattlebird'</li><li>'Rainbow Lorikeet'</li><li>'Satin Bowerbird'</li><li>'Noisy Miner'</li><li>'Crimson Rosella'</li><li>'Australian Magpie'</li><li>'Red-browed Finch'</li><li>'Grey Fantail'</li><li>'Lewin\\'s Honeyeater'</li><li>'Eastern Spinebill'</li><li>'Superb Fairy-wren'</li><li>'Grey Fantail'</li><li>'Red-browed Finch'</li><li>'Lewin\\'s Honeyeater'</li><li>'Superb Fairy-wren'</li><li>'Eastern Spinebill'</li><li>'Crimson Rosella'</li><li>'Satin Bowerbird'</li><li>'Crested Pigeon'</li><li>'Pied Currawong'</li><li>'Magpie-lark'</li><li>'Red Wattlebird'</li><li>'Spotted Dove'</li><li>'Australian Magpie'</li><li>'Rainbow Lorikeet'</li><li>'Noisy Miner'</li></ol>\n"
      ],
      "text/latex": [
       "\\begin{enumerate*}\n",
       "\\item 'Spotted Dove'\n",
       "\\item 'Crested Pigeon'\n",
       "\\item 'Pied Currawong'\n",
       "\\item 'Magpie-lark'\n",
       "\\item 'Red Wattlebird'\n",
       "\\item 'Rainbow Lorikeet'\n",
       "\\item 'Satin Bowerbird'\n",
       "\\item 'Noisy Miner'\n",
       "\\item 'Crimson Rosella'\n",
       "\\item 'Australian Magpie'\n",
       "\\item 'Red-browed Finch'\n",
       "\\item 'Grey Fantail'\n",
       "\\item 'Lewin\\textbackslash{}'s Honeyeater'\n",
       "\\item 'Eastern Spinebill'\n",
       "\\item 'Superb Fairy-wren'\n",
       "\\item 'Grey Fantail'\n",
       "\\item 'Red-browed Finch'\n",
       "\\item 'Lewin\\textbackslash{}'s Honeyeater'\n",
       "\\item 'Superb Fairy-wren'\n",
       "\\item 'Eastern Spinebill'\n",
       "\\item 'Crimson Rosella'\n",
       "\\item 'Satin Bowerbird'\n",
       "\\item 'Crested Pigeon'\n",
       "\\item 'Pied Currawong'\n",
       "\\item 'Magpie-lark'\n",
       "\\item 'Red Wattlebird'\n",
       "\\item 'Spotted Dove'\n",
       "\\item 'Australian Magpie'\n",
       "\\item 'Rainbow Lorikeet'\n",
       "\\item 'Noisy Miner'\n",
       "\\end{enumerate*}\n"
      ],
      "text/markdown": [
       "1. 'Spotted Dove'\n",
       "2. 'Crested Pigeon'\n",
       "3. 'Pied Currawong'\n",
       "4. 'Magpie-lark'\n",
       "5. 'Red Wattlebird'\n",
       "6. 'Rainbow Lorikeet'\n",
       "7. 'Satin Bowerbird'\n",
       "8. 'Noisy Miner'\n",
       "9. 'Crimson Rosella'\n",
       "10. 'Australian Magpie'\n",
       "11. 'Red-browed Finch'\n",
       "12. 'Grey Fantail'\n",
       "13. 'Lewin\\'s Honeyeater'\n",
       "14. 'Eastern Spinebill'\n",
       "15. 'Superb Fairy-wren'\n",
       "16. 'Grey Fantail'\n",
       "17. 'Red-browed Finch'\n",
       "18. 'Lewin\\'s Honeyeater'\n",
       "19. 'Superb Fairy-wren'\n",
       "20. 'Eastern Spinebill'\n",
       "21. 'Crimson Rosella'\n",
       "22. 'Satin Bowerbird'\n",
       "23. 'Crested Pigeon'\n",
       "24. 'Pied Currawong'\n",
       "25. 'Magpie-lark'\n",
       "26. 'Red Wattlebird'\n",
       "27. 'Spotted Dove'\n",
       "28. 'Australian Magpie'\n",
       "29. 'Rainbow Lorikeet'\n",
       "30. 'Noisy Miner'\n",
       "\n",
       "\n"
      ],
      "text/plain": [
       " [1] \"Spotted Dove\"       \"Crested Pigeon\"     \"Pied Currawong\"    \n",
       " [4] \"Magpie-lark\"        \"Red Wattlebird\"     \"Rainbow Lorikeet\"  \n",
       " [7] \"Satin Bowerbird\"    \"Noisy Miner\"        \"Crimson Rosella\"   \n",
       "[10] \"Australian Magpie\"  \"Red-browed Finch\"   \"Grey Fantail\"      \n",
       "[13] \"Lewin's Honeyeater\" \"Eastern Spinebill\"  \"Superb Fairy-wren\" \n",
       "[16] \"Grey Fantail\"       \"Red-browed Finch\"   \"Lewin's Honeyeater\"\n",
       "[19] \"Superb Fairy-wren\"  \"Eastern Spinebill\"  \"Crimson Rosella\"   \n",
       "[22] \"Satin Bowerbird\"    \"Crested Pigeon\"     \"Pied Currawong\"    \n",
       "[25] \"Magpie-lark\"        \"Red Wattlebird\"     \"Spotted Dove\"      \n",
       "[28] \"Australian Magpie\"  \"Rainbow Lorikeet\"   \"Noisy Miner\"       "
      ]
     },
     "metadata": {},
     "output_type": "display_data"
    }
   ],
   "source": [
    "df_birdbath2 |> pull(bird_type)"
   ]
  },
  {
   "cell_type": "markdown",
   "metadata": {},
   "source": [
    "Make a \"Urban\"/\"Rural\" [Cleveland dot chart](https://uc-r.github.io/public/images/visual/cleveland-dotplots/unnamed-chunk-10-1.png) figure with your new table. "
   ]
  },
  {
   "cell_type": "code",
   "execution_count": 27,
   "metadata": {
    "tags": []
   },
   "outputs": [
    {
     "data": {
      "image/png": "[encoded data removed]",
      "text/plain": [
       "plot without title"
      ]
     },
     "metadata": {
      "image/png": {
       "height": 420,
       "width": 420
      }
     },
     "output_type": "display_data"
    }
   ],
   "source": [
    "p = ggplot(df_birdbath2, aes(x = mean_bird_count, y = bird_type, color = urban_rural))\n",
    "\n",
    "p = p + geom_point()\n",
    "\n",
    "p"
   ]
  },
  {
   "cell_type": "markdown",
   "metadata": {},
   "source": [
    "If we want to add \"segments\" to our dot chart, we need to re-shape our data into \"wide\" format. Specifically we want to have \"Urban\" and \"Rural\" as **columns** instead of **values**.\n",
    "\n",
    "Use `pivot_wider` to make this wide table, capture it, and use `geom_segment` in combination with your wide table to add segments to your Cleveland dot chart from above 👆."
   ]
  },
  {
   "cell_type": "code",
   "execution_count": 33,
   "metadata": {
    "tags": []
   },
   "outputs": [
    {
     "data": {
      "text/html": [
       "<table class=\"dataframe\">\n",
       "<caption>A tibble: 15 × 3</caption>\n",
       "<thead>\n",
       "\t<tr><th scope=col>bird_type</th><th scope=col>Rural</th><th scope=col>Urban</th></tr>\n",
       "\t<tr><th scope=col>&lt;chr&gt;</th><th scope=col>&lt;dbl&gt;</th><th scope=col>&lt;dbl&gt;</th></tr>\n",
       "</thead>\n",
       "<tbody>\n",
       "\t<tr><td>Spotted Dove      </td><td>0.03741497</td><td>0.21276596</td></tr>\n",
       "\t<tr><td>Crested Pigeon    </td><td>0.09523810</td><td>0.14741641</td></tr>\n",
       "\t<tr><td>Pied Currawong    </td><td>0.10884354</td><td>0.18996960</td></tr>\n",
       "\t<tr><td>Magpie-lark       </td><td>0.11224490</td><td>0.19300912</td></tr>\n",
       "\t<tr><td>Red Wattlebird    </td><td>0.11904762</td><td>0.20668693</td></tr>\n",
       "\t<tr><td>Rainbow Lorikeet  </td><td>0.13605442</td><td>0.29635258</td></tr>\n",
       "\t<tr><td>Satin Bowerbird   </td><td>0.14285714</td><td>0.13525836</td></tr>\n",
       "\t<tr><td>Noisy Miner       </td><td>0.20068027</td><td>0.35410334</td></tr>\n",
       "\t<tr><td>Crimson Rosella   </td><td>0.22448980</td><td>0.13525836</td></tr>\n",
       "\t<tr><td>Australian Magpie </td><td>0.25850340</td><td>0.28267477</td></tr>\n",
       "\t<tr><td>Red-browed Finch  </td><td>0.26190476</td><td>0.06079027</td></tr>\n",
       "\t<tr><td>Grey Fantail      </td><td>0.28231293</td><td>0.06079027</td></tr>\n",
       "\t<tr><td>Lewin's Honeyeater</td><td>0.28231293</td><td>0.07598784</td></tr>\n",
       "\t<tr><td>Eastern Spinebill </td><td>0.29591837</td><td>0.10030395</td></tr>\n",
       "\t<tr><td>Superb Fairy-wren </td><td>0.36394558</td><td>0.09574468</td></tr>\n",
       "</tbody>\n",
       "</table>\n"
      ],
      "text/latex": [
       "A tibble: 15 × 3\n",
       "\\begin{tabular}{lll}\n",
       " bird\\_type & Rural & Urban\\\\\n",
       " <chr> & <dbl> & <dbl>\\\\\n",
       "\\hline\n",
       "\t Spotted Dove       & 0.03741497 & 0.21276596\\\\\n",
       "\t Crested Pigeon     & 0.09523810 & 0.14741641\\\\\n",
       "\t Pied Currawong     & 0.10884354 & 0.18996960\\\\\n",
       "\t Magpie-lark        & 0.11224490 & 0.19300912\\\\\n",
       "\t Red Wattlebird     & 0.11904762 & 0.20668693\\\\\n",
       "\t Rainbow Lorikeet   & 0.13605442 & 0.29635258\\\\\n",
       "\t Satin Bowerbird    & 0.14285714 & 0.13525836\\\\\n",
       "\t Noisy Miner        & 0.20068027 & 0.35410334\\\\\n",
       "\t Crimson Rosella    & 0.22448980 & 0.13525836\\\\\n",
       "\t Australian Magpie  & 0.25850340 & 0.28267477\\\\\n",
       "\t Red-browed Finch   & 0.26190476 & 0.06079027\\\\\n",
       "\t Grey Fantail       & 0.28231293 & 0.06079027\\\\\n",
       "\t Lewin's Honeyeater & 0.28231293 & 0.07598784\\\\\n",
       "\t Eastern Spinebill  & 0.29591837 & 0.10030395\\\\\n",
       "\t Superb Fairy-wren  & 0.36394558 & 0.09574468\\\\\n",
       "\\end{tabular}\n"
      ],
      "text/markdown": [
       "\n",
       "A tibble: 15 × 3\n",
       "\n",
       "| bird_type &lt;chr&gt; | Rural &lt;dbl&gt; | Urban &lt;dbl&gt; |\n",
       "|---|---|---|\n",
       "| Spotted Dove       | 0.03741497 | 0.21276596 |\n",
       "| Crested Pigeon     | 0.09523810 | 0.14741641 |\n",
       "| Pied Currawong     | 0.10884354 | 0.18996960 |\n",
       "| Magpie-lark        | 0.11224490 | 0.19300912 |\n",
       "| Red Wattlebird     | 0.11904762 | 0.20668693 |\n",
       "| Rainbow Lorikeet   | 0.13605442 | 0.29635258 |\n",
       "| Satin Bowerbird    | 0.14285714 | 0.13525836 |\n",
       "| Noisy Miner        | 0.20068027 | 0.35410334 |\n",
       "| Crimson Rosella    | 0.22448980 | 0.13525836 |\n",
       "| Australian Magpie  | 0.25850340 | 0.28267477 |\n",
       "| Red-browed Finch   | 0.26190476 | 0.06079027 |\n",
       "| Grey Fantail       | 0.28231293 | 0.06079027 |\n",
       "| Lewin's Honeyeater | 0.28231293 | 0.07598784 |\n",
       "| Eastern Spinebill  | 0.29591837 | 0.10030395 |\n",
       "| Superb Fairy-wren  | 0.36394558 | 0.09574468 |\n",
       "\n"
      ],
      "text/plain": [
       "   bird_type          Rural      Urban     \n",
       "1  Spotted Dove       0.03741497 0.21276596\n",
       "2  Crested Pigeon     0.09523810 0.14741641\n",
       "3  Pied Currawong     0.10884354 0.18996960\n",
       "4  Magpie-lark        0.11224490 0.19300912\n",
       "5  Red Wattlebird     0.11904762 0.20668693\n",
       "6  Rainbow Lorikeet   0.13605442 0.29635258\n",
       "7  Satin Bowerbird    0.14285714 0.13525836\n",
       "8  Noisy Miner        0.20068027 0.35410334\n",
       "9  Crimson Rosella    0.22448980 0.13525836\n",
       "10 Australian Magpie  0.25850340 0.28267477\n",
       "11 Red-browed Finch   0.26190476 0.06079027\n",
       "12 Grey Fantail       0.28231293 0.06079027\n",
       "13 Lewin's Honeyeater 0.28231293 0.07598784\n",
       "14 Eastern Spinebill  0.29591837 0.10030395\n",
       "15 Superb Fairy-wren  0.36394558 0.09574468"
      ]
     },
     "metadata": {},
     "output_type": "display_data"
    }
   ],
   "source": [
    "df_birdbath2 |> \n",
    "    pivot_wider(names_from = 'urban_rural', values_from = 'mean_bird_count')\n",
    "    "
   ]
  },
  {
   "cell_type": "code",
   "execution_count": 34,
   "metadata": {
    "tags": []
   },
   "outputs": [
    {
     "ename": "ERROR",
     "evalue": "Error in eval(expr, envir, enclos): object 'df_birdbath3' not found\n",
     "output_type": "error",
     "traceback": [
      "Error in eval(expr, envir, enclos): object 'df_birdbath3' not found\nTraceback:\n",
      "1. geom_segment(aes(y = bird_type, yend = bird_type, x = Rural, \n .     xend = Urban), data = df_birdbath3)",
      "2. layer(data = data, mapping = mapping, stat = stat, geom = GeomSegment, \n .     position = position, show.legend = show.legend, inherit.aes = inherit.aes, \n .     params = list2(arrow = arrow, arrow.fill = arrow.fill, lineend = lineend, \n .         linejoin = linejoin, na.rm = na.rm, ...))",
      "3. fortify(data)"
     ]
    }
   ],
   "source": [
    "p = ggplot(df_birdbath2, aes(x = mean_bird_count, y = bird_type)) +\n",
    "    geom_point(aes(color = urban_rural)) +\n",
    "    geom_segment(aes(y = bird_type, yend = bird_type, x = Rural, xend = Urban), \n",
    "                 data = df_birdbath3)\n",
    "\n",
    "p"
   ]
  },
  {
   "cell_type": "markdown",
   "metadata": {},
   "source": [
    "(Uncomment the code and make the cell below markdown to see my solution.)"
   ]
  },
  {
   "cell_type": "code",
   "execution_count": 31,
   "metadata": {
    "tags": []
   },
   "outputs": [
    {
     "ename": "ERROR",
     "evalue": "Error in parse(text = x, srcfile = src): <text>:1:3: unexpected '['\n1:  ![\n      ^\n",
     "output_type": "error",
     "traceback": [
      "Error in parse(text = x, srcfile = src): <text>:1:3: unexpected '['\n1:  ![\n      ^\nTraceback:\n"
     ]
    }
   ],
   "source": [
    "# ![](https://github.com/chuckpr/BIOS512/blob/main/in-class-exercises/12/12_01_pivot_chart.png?raw=true)"
   ]
  },
  {
   "cell_type": "code",
   "execution_count": null,
   "metadata": {},
   "outputs": [],
   "source": []
  }
 ],
 "metadata": {
  "kernelspec": {
   "display_name": "bios512:R",
   "language": "R",
   "name": "conda-env-bios512-r"
  },
  "language_info": {
   "codemirror_mode": "r",
   "file_extension": ".r",
   "mimetype": "text/x-r-source",
   "name": "R",
   "pygments_lexer": "r",
   "version": "4.3.1"
  }
 },
 "nbformat": 4,
 "nbformat_minor": 4
}
