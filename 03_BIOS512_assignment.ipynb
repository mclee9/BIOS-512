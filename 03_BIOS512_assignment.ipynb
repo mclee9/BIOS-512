{
 "cells": [
  {
   "cell_type": "markdown",
   "id": "e9216b63-c18a-4c9b-beff-4b6b2e1b6964",
   "metadata": {},
   "source": [
    "# BIOS512 Assignment #3"
   ]
  },
  {
   "cell_type": "markdown",
   "id": "4403015e-d27f-473c-8720-088ac6db57c9",
   "metadata": {},
   "source": [
    "Import the 📈Tidyverse into your `R` session"
   ]
  },
  {
   "cell_type": "code",
   "execution_count": 18,
   "id": "2cb997c6-b57c-4198-aa5c-8be897467c7c",
   "metadata": {
    "tags": []
   },
   "outputs": [],
   "source": [
    "library('tidyverse')\n",
    "library('ggplot2')"
   ]
  },
  {
   "cell_type": "markdown",
   "id": "47ccf7f6-01c6-46b4-94a1-f8dcd8ef8377",
   "metadata": {},
   "source": [
    "In this assignment we'll be using data from the [TidyTuesday Project](https://github.com/rfordatascience/tidytuesday). Specifically, we'll investigate vaccination rates at US schools. A `CSV` file of the data is located at:  \n",
    "\n",
    "[https://github.com/rfordatascience/tidytuesday/blob/master/data/2020/2020-02-25/measles.csv](https://github.com/rfordatascience/tidytuesday/blob/master/data/2020/2020-02-25/measles.csv)\n",
    "\n",
    "Get the \"raw\" data URL and import it into your `R` session using `read_csv`. Remember to capture the data under a variable name of your choosing!"
   ]
  },
  {
   "cell_type": "code",
   "execution_count": 19,
   "id": "8de37571-29da-4393-b1eb-ca13fcd70fed",
   "metadata": {
    "tags": []
   },
   "outputs": [
    {
     "name": "stderr",
     "output_type": "stream",
     "text": [
      "\u001b[1mRows: \u001b[22m\u001b[34m66113\u001b[39m \u001b[1mColumns: \u001b[22m\u001b[34m16\u001b[39m\n",
      "\u001b[36m──\u001b[39m \u001b[1mColumn specification\u001b[22m \u001b[36m────────────────────────────────────────────────────────\u001b[39m\n",
      "\u001b[1mDelimiter:\u001b[22m \",\"\n",
      "\u001b[31mchr\u001b[39m (6): state, year, name, type, city, county\n",
      "\u001b[32mdbl\u001b[39m (8): index, enroll, mmr, overall, xmed, xper, lat, lng\n",
      "\u001b[33mlgl\u001b[39m (2): district, xrel\n",
      "\n",
      "\u001b[36mℹ\u001b[39m Use `spec()` to retrieve the full column specification for this data.\n",
      "\u001b[36mℹ\u001b[39m Specify the column types or set `show_col_types = FALSE` to quiet this message.\n"
     ]
    }
   ],
   "source": [
    "url <- 'https://raw.githubusercontent.com/rfordatascience/tidytuesday/master/data/2020/2020-02-25/measles.csv'\n",
    "\n",
    "tidytuesday <- readr::read_csv(url)"
   ]
  },
  {
   "cell_type": "markdown",
   "id": "feb89cec-8cda-457d-95cf-89dbfa932ab4",
   "metadata": {},
   "source": [
    "The `mmr` column has holds 🤒 measles, mumps, rubella 🤒 vaccination rates for students in each respective school. **If the `mmr` value is not available for a school the `mmr` value is set to -1 in this data set.** \n",
    "\n",
    "The target `mmr` vaccination rate as [recommended by the CDC](https://www.cdc.gov/mmwr/preview/mmwrhtml/mm5632a3.htm) for schools is 95%. \n",
    "\n",
    "**Calculate the fraction of schools per state that have vaccination rates greater than the CDC 95%. Capture the output as a table called `df_vacc_rates`.**\n",
    "\n",
    "You'll need to do use `filter`, `group_by`, and `summarize`. \n",
    "\n",
    "I.e.\n",
    "1. Filter out schools that don't report `mmr` vaccination rate (keep schools where `mmr >= 0`).\n",
    "1. Group the data by `state`.\n",
    "1. Summarize fracion of vaccination rates above 95%.\n",
    "\n",
    "💡Remember `n()` stands for the number or records in a group. Also, `sum(mmr >= 95, na.rm=TRUE)` will count the number of values above or equal to 95.💡"
   ]
  },
  {
   "cell_type": "code",
   "execution_count": 20,
   "id": "8b41e732-b0a5-4185-b23a-f599769fb96c",
   "metadata": {
    "tags": []
   },
   "outputs": [
    {
     "data": {
      "text/html": [
       "<table class=\"dataframe\">\n",
       "<caption>A tibble: 6 × 16</caption>\n",
       "<thead>\n",
       "\t<tr><th scope=col>index</th><th scope=col>state</th><th scope=col>year</th><th scope=col>name</th><th scope=col>type</th><th scope=col>city</th><th scope=col>county</th><th scope=col>district</th><th scope=col>enroll</th><th scope=col>mmr</th><th scope=col>overall</th><th scope=col>xrel</th><th scope=col>xmed</th><th scope=col>xper</th><th scope=col>lat</th><th scope=col>lng</th></tr>\n",
       "\t<tr><th scope=col>&lt;dbl&gt;</th><th scope=col>&lt;chr&gt;</th><th scope=col>&lt;chr&gt;</th><th scope=col>&lt;chr&gt;</th><th scope=col>&lt;chr&gt;</th><th scope=col>&lt;chr&gt;</th><th scope=col>&lt;chr&gt;</th><th scope=col>&lt;lgl&gt;</th><th scope=col>&lt;dbl&gt;</th><th scope=col>&lt;dbl&gt;</th><th scope=col>&lt;dbl&gt;</th><th scope=col>&lt;lgl&gt;</th><th scope=col>&lt;dbl&gt;</th><th scope=col>&lt;dbl&gt;</th><th scope=col>&lt;dbl&gt;</th><th scope=col>&lt;dbl&gt;</th></tr>\n",
       "</thead>\n",
       "<tbody>\n",
       "\t<tr><td>1</td><td>Arizona</td><td>2018-19</td><td>A J Mitchell Elementary                 </td><td>Public </td><td>Nogales</td><td>Santa Cruz</td><td>NA</td><td>51</td><td>100</td><td>-1</td><td>NA</td><td>  NA</td><td>  NA</td><td>31.34782</td><td>-110.9380</td></tr>\n",
       "\t<tr><td>2</td><td>Arizona</td><td>2018-19</td><td>Academy Del Sol                         </td><td>Charter</td><td>Tucson </td><td>Pima      </td><td>NA</td><td>22</td><td>100</td><td>-1</td><td>NA</td><td>  NA</td><td>  NA</td><td>32.22192</td><td>-110.8961</td></tr>\n",
       "\t<tr><td>3</td><td>Arizona</td><td>2018-19</td><td>Academy Del Sol - Hope                  </td><td>Charter</td><td>Tucson </td><td>Pima      </td><td>NA</td><td>85</td><td>100</td><td>-1</td><td>NA</td><td>  NA</td><td>  NA</td><td>32.13049</td><td>-111.1170</td></tr>\n",
       "\t<tr><td>4</td><td>Arizona</td><td>2018-19</td><td>Academy Of Mathematics And Science South</td><td>Charter</td><td>Phoenix</td><td>Maricopa  </td><td>NA</td><td>60</td><td>100</td><td>-1</td><td>NA</td><td>  NA</td><td>  NA</td><td>33.48545</td><td>-112.1306</td></tr>\n",
       "\t<tr><td>5</td><td>Arizona</td><td>2018-19</td><td>Acclaim Academy                         </td><td>Charter</td><td>Phoenix</td><td>Maricopa  </td><td>NA</td><td>43</td><td>100</td><td>-1</td><td>NA</td><td>2.33</td><td>2.33</td><td>33.49562</td><td>-112.2247</td></tr>\n",
       "\t<tr><td>6</td><td>Arizona</td><td>2018-19</td><td>Alfred F Garcia                         </td><td>Public </td><td>Phoenix</td><td>Maricopa  </td><td>NA</td><td>36</td><td>100</td><td>-1</td><td>NA</td><td>  NA</td><td>  NA</td><td>33.43532</td><td>-112.1168</td></tr>\n",
       "</tbody>\n",
       "</table>\n"
      ],
      "text/latex": [
       "A tibble: 6 × 16\n",
       "\\begin{tabular}{llllllllllllllll}\n",
       " index & state & year & name & type & city & county & district & enroll & mmr & overall & xrel & xmed & xper & lat & lng\\\\\n",
       " <dbl> & <chr> & <chr> & <chr> & <chr> & <chr> & <chr> & <lgl> & <dbl> & <dbl> & <dbl> & <lgl> & <dbl> & <dbl> & <dbl> & <dbl>\\\\\n",
       "\\hline\n",
       "\t 1 & Arizona & 2018-19 & A J Mitchell Elementary                  & Public  & Nogales & Santa Cruz & NA & 51 & 100 & -1 & NA &   NA &   NA & 31.34782 & -110.9380\\\\\n",
       "\t 2 & Arizona & 2018-19 & Academy Del Sol                          & Charter & Tucson  & Pima       & NA & 22 & 100 & -1 & NA &   NA &   NA & 32.22192 & -110.8961\\\\\n",
       "\t 3 & Arizona & 2018-19 & Academy Del Sol - Hope                   & Charter & Tucson  & Pima       & NA & 85 & 100 & -1 & NA &   NA &   NA & 32.13049 & -111.1170\\\\\n",
       "\t 4 & Arizona & 2018-19 & Academy Of Mathematics And Science South & Charter & Phoenix & Maricopa   & NA & 60 & 100 & -1 & NA &   NA &   NA & 33.48545 & -112.1306\\\\\n",
       "\t 5 & Arizona & 2018-19 & Acclaim Academy                          & Charter & Phoenix & Maricopa   & NA & 43 & 100 & -1 & NA & 2.33 & 2.33 & 33.49562 & -112.2247\\\\\n",
       "\t 6 & Arizona & 2018-19 & Alfred F Garcia                          & Public  & Phoenix & Maricopa   & NA & 36 & 100 & -1 & NA &   NA &   NA & 33.43532 & -112.1168\\\\\n",
       "\\end{tabular}\n"
      ],
      "text/markdown": [
       "\n",
       "A tibble: 6 × 16\n",
       "\n",
       "| index &lt;dbl&gt; | state &lt;chr&gt; | year &lt;chr&gt; | name &lt;chr&gt; | type &lt;chr&gt; | city &lt;chr&gt; | county &lt;chr&gt; | district &lt;lgl&gt; | enroll &lt;dbl&gt; | mmr &lt;dbl&gt; | overall &lt;dbl&gt; | xrel &lt;lgl&gt; | xmed &lt;dbl&gt; | xper &lt;dbl&gt; | lat &lt;dbl&gt; | lng &lt;dbl&gt; |\n",
       "|---|---|---|---|---|---|---|---|---|---|---|---|---|---|---|---|\n",
       "| 1 | Arizona | 2018-19 | A J Mitchell Elementary                  | Public  | Nogales | Santa Cruz | NA | 51 | 100 | -1 | NA |   NA |   NA | 31.34782 | -110.9380 |\n",
       "| 2 | Arizona | 2018-19 | Academy Del Sol                          | Charter | Tucson  | Pima       | NA | 22 | 100 | -1 | NA |   NA |   NA | 32.22192 | -110.8961 |\n",
       "| 3 | Arizona | 2018-19 | Academy Del Sol - Hope                   | Charter | Tucson  | Pima       | NA | 85 | 100 | -1 | NA |   NA |   NA | 32.13049 | -111.1170 |\n",
       "| 4 | Arizona | 2018-19 | Academy Of Mathematics And Science South | Charter | Phoenix | Maricopa   | NA | 60 | 100 | -1 | NA |   NA |   NA | 33.48545 | -112.1306 |\n",
       "| 5 | Arizona | 2018-19 | Acclaim Academy                          | Charter | Phoenix | Maricopa   | NA | 43 | 100 | -1 | NA | 2.33 | 2.33 | 33.49562 | -112.2247 |\n",
       "| 6 | Arizona | 2018-19 | Alfred F Garcia                          | Public  | Phoenix | Maricopa   | NA | 36 | 100 | -1 | NA |   NA |   NA | 33.43532 | -112.1168 |\n",
       "\n"
      ],
      "text/plain": [
       "  index state   year    name                                     type   \n",
       "1 1     Arizona 2018-19 A J Mitchell Elementary                  Public \n",
       "2 2     Arizona 2018-19 Academy Del Sol                          Charter\n",
       "3 3     Arizona 2018-19 Academy Del Sol - Hope                   Charter\n",
       "4 4     Arizona 2018-19 Academy Of Mathematics And Science South Charter\n",
       "5 5     Arizona 2018-19 Acclaim Academy                          Charter\n",
       "6 6     Arizona 2018-19 Alfred F Garcia                          Public \n",
       "  city    county     district enroll mmr overall xrel xmed xper lat     \n",
       "1 Nogales Santa Cruz NA       51     100 -1      NA     NA   NA 31.34782\n",
       "2 Tucson  Pima       NA       22     100 -1      NA     NA   NA 32.22192\n",
       "3 Tucson  Pima       NA       85     100 -1      NA     NA   NA 32.13049\n",
       "4 Phoenix Maricopa   NA       60     100 -1      NA     NA   NA 33.48545\n",
       "5 Phoenix Maricopa   NA       43     100 -1      NA   2.33 2.33 33.49562\n",
       "6 Phoenix Maricopa   NA       36     100 -1      NA     NA   NA 33.43532\n",
       "  lng      \n",
       "1 -110.9380\n",
       "2 -110.8961\n",
       "3 -111.1170\n",
       "4 -112.1306\n",
       "5 -112.2247\n",
       "6 -112.1168"
      ]
     },
     "metadata": {},
     "output_type": "display_data"
    }
   ],
   "source": [
    "tidytuesday |> head()"
   ]
  },
  {
   "cell_type": "code",
   "execution_count": 21,
   "id": "0ba9a861-00fc-4392-a67d-cddbd5a994e0",
   "metadata": {},
   "outputs": [
    {
     "data": {
      "text/html": [
       "<table class=\"dataframe\">\n",
       "<caption>A tibble: 6 × 3</caption>\n",
       "<thead>\n",
       "\t<tr><th scope=col>state</th><th scope=col>schools</th><th scope=col>over_95</th></tr>\n",
       "\t<tr><th scope=col>&lt;chr&gt;</th><th scope=col>&lt;int&gt;</th><th scope=col>&lt;int&gt;</th></tr>\n",
       "</thead>\n",
       "<tbody>\n",
       "\t<tr><td>Arizona    </td><td> 1171</td><td>  593</td></tr>\n",
       "\t<tr><td>Arkansas   </td><td>  567</td><td>    2</td></tr>\n",
       "\t<tr><td>California </td><td>14225</td><td>12639</td></tr>\n",
       "\t<tr><td>Colorado   </td><td> 1507</td><td>  939</td></tr>\n",
       "\t<tr><td>Connecticut</td><td>  589</td><td>  478</td></tr>\n",
       "\t<tr><td>Illinois   </td><td> 7686</td><td> 6893</td></tr>\n",
       "</tbody>\n",
       "</table>\n"
      ],
      "text/latex": [
       "A tibble: 6 × 3\n",
       "\\begin{tabular}{lll}\n",
       " state & schools & over\\_95\\\\\n",
       " <chr> & <int> & <int>\\\\\n",
       "\\hline\n",
       "\t Arizona     &  1171 &   593\\\\\n",
       "\t Arkansas    &   567 &     2\\\\\n",
       "\t California  & 14225 & 12639\\\\\n",
       "\t Colorado    &  1507 &   939\\\\\n",
       "\t Connecticut &   589 &   478\\\\\n",
       "\t Illinois    &  7686 &  6893\\\\\n",
       "\\end{tabular}\n"
      ],
      "text/markdown": [
       "\n",
       "A tibble: 6 × 3\n",
       "\n",
       "| state &lt;chr&gt; | schools &lt;int&gt; | over_95 &lt;int&gt; |\n",
       "|---|---|---|\n",
       "| Arizona     |  1171 |   593 |\n",
       "| Arkansas    |   567 |     2 |\n",
       "| California  | 14225 | 12639 |\n",
       "| Colorado    |  1507 |   939 |\n",
       "| Connecticut |   589 |   478 |\n",
       "| Illinois    |  7686 |  6893 |\n",
       "\n"
      ],
      "text/plain": [
       "  state       schools over_95\n",
       "1 Arizona      1171     593  \n",
       "2 Arkansas      567       2  \n",
       "3 California  14225   12639  \n",
       "4 Colorado     1507     939  \n",
       "5 Connecticut   589     478  \n",
       "6 Illinois     7686    6893  "
      ]
     },
     "metadata": {},
     "output_type": "display_data"
    }
   ],
   "source": [
    "df_vacc_rates = tidytuesday |>\n",
    "    filter(mmr >= 0) |>\n",
    "    group_by(state) |>\n",
    "    summarize(schools = n(), over_95 = sum(mmr >= 95, na.rm=TRUE / schools))\n",
    "\n",
    "df_vacc_rates |> head()\n"
   ]
  },
  {
   "cell_type": "markdown",
   "id": "900ddf7f-d801-4a70-9453-73bdd3277344",
   "metadata": {
    "tags": []
   },
   "source": [
    "Which state (of those that report `mmr`) has the smallest fraction of schools above the CDC target vaccination rate of 95%?  "
   ]
  },
  {
   "cell_type": "code",
   "execution_count": 22,
   "id": "13812611-a534-46c2-aae6-0f6c645273e0",
   "metadata": {},
   "outputs": [
    {
     "data": {
      "text/html": [
       "<table class=\"dataframe\">\n",
       "<caption>A tibble: 21 × 3</caption>\n",
       "<thead>\n",
       "\t<tr><th scope=col>state</th><th scope=col>schools</th><th scope=col>over_95</th></tr>\n",
       "\t<tr><th scope=col>&lt;chr&gt;</th><th scope=col>&lt;int&gt;</th><th scope=col>&lt;int&gt;</th></tr>\n",
       "</thead>\n",
       "<tbody>\n",
       "\t<tr><td>Arkansas     </td><td>  567</td><td>    2</td></tr>\n",
       "\t<tr><td>North Dakota </td><td>  360</td><td>  164</td></tr>\n",
       "\t<tr><td>Maine        </td><td>  357</td><td>  169</td></tr>\n",
       "\t<tr><td>Vermont      </td><td>  338</td><td>  231</td></tr>\n",
       "\t<tr><td>South Dakota </td><td>  373</td><td>  277</td></tr>\n",
       "\t<tr><td>Montana      </td><td>  522</td><td>  370</td></tr>\n",
       "\t<tr><td>Utah         </td><td>  603</td><td>  410</td></tr>\n",
       "\t<tr><td>Missouri     </td><td>  700</td><td>  476</td></tr>\n",
       "\t<tr><td>Connecticut  </td><td>  589</td><td>  478</td></tr>\n",
       "\t<tr><td>Oregon       </td><td>  806</td><td>  478</td></tr>\n",
       "\t<tr><td>Texas        </td><td>  811</td><td>  508</td></tr>\n",
       "\t<tr><td>Arizona      </td><td> 1171</td><td>  593</td></tr>\n",
       "\t<tr><td>Washington   </td><td> 1978</td><td>  646</td></tr>\n",
       "\t<tr><td>Minnesota    </td><td> 1593</td><td>  755</td></tr>\n",
       "\t<tr><td>Massachusetts</td><td>  954</td><td>  826</td></tr>\n",
       "\t<tr><td>Colorado     </td><td> 1507</td><td>  939</td></tr>\n",
       "\t<tr><td>Ohio         </td><td> 2919</td><td> 1435</td></tr>\n",
       "\t<tr><td>Pennsylvania </td><td> 1939</td><td> 1619</td></tr>\n",
       "\t<tr><td>New York     </td><td> 4159</td><td> 3576</td></tr>\n",
       "\t<tr><td>Illinois     </td><td> 7686</td><td> 6893</td></tr>\n",
       "\t<tr><td>California   </td><td>14225</td><td>12639</td></tr>\n",
       "</tbody>\n",
       "</table>\n"
      ],
      "text/latex": [
       "A tibble: 21 × 3\n",
       "\\begin{tabular}{lll}\n",
       " state & schools & over\\_95\\\\\n",
       " <chr> & <int> & <int>\\\\\n",
       "\\hline\n",
       "\t Arkansas      &   567 &     2\\\\\n",
       "\t North Dakota  &   360 &   164\\\\\n",
       "\t Maine         &   357 &   169\\\\\n",
       "\t Vermont       &   338 &   231\\\\\n",
       "\t South Dakota  &   373 &   277\\\\\n",
       "\t Montana       &   522 &   370\\\\\n",
       "\t Utah          &   603 &   410\\\\\n",
       "\t Missouri      &   700 &   476\\\\\n",
       "\t Connecticut   &   589 &   478\\\\\n",
       "\t Oregon        &   806 &   478\\\\\n",
       "\t Texas         &   811 &   508\\\\\n",
       "\t Arizona       &  1171 &   593\\\\\n",
       "\t Washington    &  1978 &   646\\\\\n",
       "\t Minnesota     &  1593 &   755\\\\\n",
       "\t Massachusetts &   954 &   826\\\\\n",
       "\t Colorado      &  1507 &   939\\\\\n",
       "\t Ohio          &  2919 &  1435\\\\\n",
       "\t Pennsylvania  &  1939 &  1619\\\\\n",
       "\t New York      &  4159 &  3576\\\\\n",
       "\t Illinois      &  7686 &  6893\\\\\n",
       "\t California    & 14225 & 12639\\\\\n",
       "\\end{tabular}\n"
      ],
      "text/markdown": [
       "\n",
       "A tibble: 21 × 3\n",
       "\n",
       "| state &lt;chr&gt; | schools &lt;int&gt; | over_95 &lt;int&gt; |\n",
       "|---|---|---|\n",
       "| Arkansas      |   567 |     2 |\n",
       "| North Dakota  |   360 |   164 |\n",
       "| Maine         |   357 |   169 |\n",
       "| Vermont       |   338 |   231 |\n",
       "| South Dakota  |   373 |   277 |\n",
       "| Montana       |   522 |   370 |\n",
       "| Utah          |   603 |   410 |\n",
       "| Missouri      |   700 |   476 |\n",
       "| Connecticut   |   589 |   478 |\n",
       "| Oregon        |   806 |   478 |\n",
       "| Texas         |   811 |   508 |\n",
       "| Arizona       |  1171 |   593 |\n",
       "| Washington    |  1978 |   646 |\n",
       "| Minnesota     |  1593 |   755 |\n",
       "| Massachusetts |   954 |   826 |\n",
       "| Colorado      |  1507 |   939 |\n",
       "| Ohio          |  2919 |  1435 |\n",
       "| Pennsylvania  |  1939 |  1619 |\n",
       "| New York      |  4159 |  3576 |\n",
       "| Illinois      |  7686 |  6893 |\n",
       "| California    | 14225 | 12639 |\n",
       "\n"
      ],
      "text/plain": [
       "   state         schools over_95\n",
       "1  Arkansas        567       2  \n",
       "2  North Dakota    360     164  \n",
       "3  Maine           357     169  \n",
       "4  Vermont         338     231  \n",
       "5  South Dakota    373     277  \n",
       "6  Montana         522     370  \n",
       "7  Utah            603     410  \n",
       "8  Missouri        700     476  \n",
       "9  Connecticut     589     478  \n",
       "10 Oregon          806     478  \n",
       "11 Texas           811     508  \n",
       "12 Arizona        1171     593  \n",
       "13 Washington     1978     646  \n",
       "14 Minnesota      1593     755  \n",
       "15 Massachusetts   954     826  \n",
       "16 Colorado       1507     939  \n",
       "17 Ohio           2919    1435  \n",
       "18 Pennsylvania   1939    1619  \n",
       "19 New York       4159    3576  \n",
       "20 Illinois       7686    6893  \n",
       "21 California    14225   12639  "
      ]
     },
     "metadata": {},
     "output_type": "display_data"
    }
   ],
   "source": [
    "df_vacc_rates |> arrange(over_95)\n",
    "\n",
    "#Arkansas has the smallest fraction."
   ]
  },
  {
   "cell_type": "markdown",
   "id": "2866ca03-1f87-466e-ab0a-dd69140496e6",
   "metadata": {},
   "source": [
    "**Make a ECDF plot of the school vaccination rates in North Carolina.** Use the `overall` column which reports the \"overall\" vaccination rate at each school.\n",
    "\n",
    "❗️Remember, you can calculate the `y` value for ECDF charts using `row_number`, `mutate`, and `arrange`."
   ]
  },
  {
   "cell_type": "code",
   "execution_count": 23,
   "id": "478c5949-b5cb-4a4c-9915-6201427248c1",
   "metadata": {},
   "outputs": [
    {
     "data": {
      "text/html": [
       "<table class=\"dataframe\">\n",
       "<caption>A tibble: 6 × 16</caption>\n",
       "<thead>\n",
       "\t<tr><th scope=col>index</th><th scope=col>state</th><th scope=col>year</th><th scope=col>name</th><th scope=col>type</th><th scope=col>city</th><th scope=col>county</th><th scope=col>district</th><th scope=col>enroll</th><th scope=col>mmr</th><th scope=col>overall</th><th scope=col>xrel</th><th scope=col>xmed</th><th scope=col>xper</th><th scope=col>lat</th><th scope=col>lng</th></tr>\n",
       "\t<tr><th scope=col>&lt;dbl&gt;</th><th scope=col>&lt;chr&gt;</th><th scope=col>&lt;chr&gt;</th><th scope=col>&lt;chr&gt;</th><th scope=col>&lt;chr&gt;</th><th scope=col>&lt;chr&gt;</th><th scope=col>&lt;chr&gt;</th><th scope=col>&lt;lgl&gt;</th><th scope=col>&lt;dbl&gt;</th><th scope=col>&lt;dbl&gt;</th><th scope=col>&lt;dbl&gt;</th><th scope=col>&lt;lgl&gt;</th><th scope=col>&lt;dbl&gt;</th><th scope=col>&lt;dbl&gt;</th><th scope=col>&lt;dbl&gt;</th><th scope=col>&lt;dbl&gt;</th></tr>\n",
       "</thead>\n",
       "<tbody>\n",
       "\t<tr><td>1</td><td>North Carolina</td><td>2018-19</td><td>A T Allen Elementary                 </td><td>NA</td><td>NA</td><td>Cabarrus</td><td>NA</td><td>132</td><td>-1</td><td>100</td><td>NA</td><td>NA</td><td>NA</td><td>35.36238</td><td>-80.51297</td></tr>\n",
       "\t<tr><td>2</td><td>North Carolina</td><td>2018-19</td><td>A.C.E. Academy                       </td><td>NA</td><td>NA</td><td>Cabarrus</td><td>NA</td><td> 44</td><td>-1</td><td>100</td><td>NA</td><td>NA</td><td>NA</td><td>35.30806</td><td>-80.67281</td></tr>\n",
       "\t<tr><td>3</td><td>North Carolina</td><td>2018-19</td><td>ABC of NC Child Develop. Ctr         </td><td>NA</td><td>NA</td><td>Davidson</td><td>NA</td><td>  1</td><td>-1</td><td>100</td><td>NA</td><td>NA</td><td>NA</td><td>35.99481</td><td>-80.27403</td></tr>\n",
       "\t<tr><td>4</td><td>North Carolina</td><td>2018-19</td><td>Agape Christian                      </td><td>NA</td><td>NA</td><td>Ashe    </td><td>NA</td><td>  3</td><td>-1</td><td>100</td><td>NA</td><td>NA</td><td>NA</td><td>36.42064</td><td>-81.48704</td></tr>\n",
       "\t<tr><td>5</td><td>North Carolina</td><td>2018-19</td><td>Agape International Christian Academy</td><td>NA</td><td>NA</td><td>Franklin</td><td>NA</td><td>  1</td><td>-1</td><td>100</td><td>NA</td><td>NA</td><td>NA</td><td>36.03484</td><td>-78.49820</td></tr>\n",
       "\t<tr><td>6</td><td>North Carolina</td><td>2018-19</td><td>Ahoskie Christian                    </td><td>NA</td><td>NA</td><td>Hertford</td><td>NA</td><td> 32</td><td>-1</td><td>100</td><td>NA</td><td>NA</td><td>NA</td><td>36.27857</td><td>-76.97674</td></tr>\n",
       "</tbody>\n",
       "</table>\n"
      ],
      "text/latex": [
       "A tibble: 6 × 16\n",
       "\\begin{tabular}{llllllllllllllll}\n",
       " index & state & year & name & type & city & county & district & enroll & mmr & overall & xrel & xmed & xper & lat & lng\\\\\n",
       " <dbl> & <chr> & <chr> & <chr> & <chr> & <chr> & <chr> & <lgl> & <dbl> & <dbl> & <dbl> & <lgl> & <dbl> & <dbl> & <dbl> & <dbl>\\\\\n",
       "\\hline\n",
       "\t 1 & North Carolina & 2018-19 & A T Allen Elementary                  & NA & NA & Cabarrus & NA & 132 & -1 & 100 & NA & NA & NA & 35.36238 & -80.51297\\\\\n",
       "\t 2 & North Carolina & 2018-19 & A.C.E. Academy                        & NA & NA & Cabarrus & NA &  44 & -1 & 100 & NA & NA & NA & 35.30806 & -80.67281\\\\\n",
       "\t 3 & North Carolina & 2018-19 & ABC of NC Child Develop. Ctr          & NA & NA & Davidson & NA &   1 & -1 & 100 & NA & NA & NA & 35.99481 & -80.27403\\\\\n",
       "\t 4 & North Carolina & 2018-19 & Agape Christian                       & NA & NA & Ashe     & NA &   3 & -1 & 100 & NA & NA & NA & 36.42064 & -81.48704\\\\\n",
       "\t 5 & North Carolina & 2018-19 & Agape International Christian Academy & NA & NA & Franklin & NA &   1 & -1 & 100 & NA & NA & NA & 36.03484 & -78.49820\\\\\n",
       "\t 6 & North Carolina & 2018-19 & Ahoskie Christian                     & NA & NA & Hertford & NA &  32 & -1 & 100 & NA & NA & NA & 36.27857 & -76.97674\\\\\n",
       "\\end{tabular}\n"
      ],
      "text/markdown": [
       "\n",
       "A tibble: 6 × 16\n",
       "\n",
       "| index &lt;dbl&gt; | state &lt;chr&gt; | year &lt;chr&gt; | name &lt;chr&gt; | type &lt;chr&gt; | city &lt;chr&gt; | county &lt;chr&gt; | district &lt;lgl&gt; | enroll &lt;dbl&gt; | mmr &lt;dbl&gt; | overall &lt;dbl&gt; | xrel &lt;lgl&gt; | xmed &lt;dbl&gt; | xper &lt;dbl&gt; | lat &lt;dbl&gt; | lng &lt;dbl&gt; |\n",
       "|---|---|---|---|---|---|---|---|---|---|---|---|---|---|---|---|\n",
       "| 1 | North Carolina | 2018-19 | A T Allen Elementary                  | NA | NA | Cabarrus | NA | 132 | -1 | 100 | NA | NA | NA | 35.36238 | -80.51297 |\n",
       "| 2 | North Carolina | 2018-19 | A.C.E. Academy                        | NA | NA | Cabarrus | NA |  44 | -1 | 100 | NA | NA | NA | 35.30806 | -80.67281 |\n",
       "| 3 | North Carolina | 2018-19 | ABC of NC Child Develop. Ctr          | NA | NA | Davidson | NA |   1 | -1 | 100 | NA | NA | NA | 35.99481 | -80.27403 |\n",
       "| 4 | North Carolina | 2018-19 | Agape Christian                       | NA | NA | Ashe     | NA |   3 | -1 | 100 | NA | NA | NA | 36.42064 | -81.48704 |\n",
       "| 5 | North Carolina | 2018-19 | Agape International Christian Academy | NA | NA | Franklin | NA |   1 | -1 | 100 | NA | NA | NA | 36.03484 | -78.49820 |\n",
       "| 6 | North Carolina | 2018-19 | Ahoskie Christian                     | NA | NA | Hertford | NA |  32 | -1 | 100 | NA | NA | NA | 36.27857 | -76.97674 |\n",
       "\n"
      ],
      "text/plain": [
       "  index state          year    name                                  type city\n",
       "1 1     North Carolina 2018-19 A T Allen Elementary                  NA   NA  \n",
       "2 2     North Carolina 2018-19 A.C.E. Academy                        NA   NA  \n",
       "3 3     North Carolina 2018-19 ABC of NC Child Develop. Ctr          NA   NA  \n",
       "4 4     North Carolina 2018-19 Agape Christian                       NA   NA  \n",
       "5 5     North Carolina 2018-19 Agape International Christian Academy NA   NA  \n",
       "6 6     North Carolina 2018-19 Ahoskie Christian                     NA   NA  \n",
       "  county   district enroll mmr overall xrel xmed xper lat      lng      \n",
       "1 Cabarrus NA       132    -1  100     NA   NA   NA   35.36238 -80.51297\n",
       "2 Cabarrus NA        44    -1  100     NA   NA   NA   35.30806 -80.67281\n",
       "3 Davidson NA         1    -1  100     NA   NA   NA   35.99481 -80.27403\n",
       "4 Ashe     NA         3    -1  100     NA   NA   NA   36.42064 -81.48704\n",
       "5 Franklin NA         1    -1  100     NA   NA   NA   36.03484 -78.49820\n",
       "6 Hertford NA        32    -1  100     NA   NA   NA   36.27857 -76.97674"
      ]
     },
     "metadata": {},
     "output_type": "display_data"
    }
   ],
   "source": [
    "north_carolina = tidytuesday |>\n",
    "    filter(state == 'North Carolina')\n",
    "\n",
    "north_carolina |> head()"
   ]
  },
  {
   "cell_type": "code",
   "execution_count": 31,
   "id": "9e7cde00-d1fc-47de-8a79-5e4d08b319b7",
   "metadata": {
    "tags": []
   },
   "outputs": [
    {
     "data": {
      "image/png": "[encoded data removed]",
      "text/plain": [
       "plot without title"
      ]
     },
     "metadata": {
      "image/png": {
       "height": 750,
       "width": 750
      }
     },
     "output_type": "display_data"
    }
   ],
   "source": [
    "options(repr.plot.res = 300, repr.plot.height = 5, repr.plot.width = 5)\n",
    "\n",
    "p = ggplot(north_carolina, aes(x = overall))\n",
    "\n",
    "p = p + stat_ecdf(geom = \"step\")\n",
    "\n",
    "p = p + stat_ecdf(geom = \"point\")\n",
    "\n",
    "p = p + labs(x = 'Vaccination Rate (%)', y = 'Fraction of Schools')\n",
    "\n",
    "p = p + geom_vline(xintercept = 95, linetype = \"dashed\", color = \"blue\")\n",
    "\n",
    "p = p + scale_x_continuous(labels = scales::percent_format(scale = 1))\n",
    "                  \n",
    "p                  "
   ]
  },
  {
   "cell_type": "markdown",
   "id": "8f5ea83f-c904-46ee-9f52-af1bd1afbc96",
   "metadata": {},
   "source": [
    "(My solution is below if you want to peek 👀. Uncomment the code, change the cell to `markdown`, and exectute it.)"
   ]
  },
  {
   "cell_type": "markdown",
   "id": "c74e2f8b-8853-48ba-887a-e4f2ccada112",
   "metadata": {
    "tags": []
   },
   "source": [
    "![](https://github.com/chuckpr/BIOS512/blob/main/assignments/measles-chart.png?raw=true)"
   ]
  },
  {
   "cell_type": "markdown",
   "id": "d2041941-dcee-42e8-957f-a725dc36388f",
   "metadata": {},
   "source": [
    "Is the median vaccination rate for NC schools above the CDC recommended target?"
   ]
  },
  {
   "cell_type": "code",
   "execution_count": 16,
   "id": "1eb106ff-b7e9-47ab-a997-9a8d6db401cb",
   "metadata": {},
   "outputs": [
    {
     "data": {
      "text/html": [
       "<table class=\"dataframe\">\n",
       "<caption>A tibble: 1 × 1</caption>\n",
       "<thead>\n",
       "\t<tr><th scope=col>median_vacc_rate</th></tr>\n",
       "\t<tr><th scope=col>&lt;dbl&gt;</th></tr>\n",
       "</thead>\n",
       "<tbody>\n",
       "\t<tr><td>100</td></tr>\n",
       "</tbody>\n",
       "</table>\n"
      ],
      "text/latex": [
       "A tibble: 1 × 1\n",
       "\\begin{tabular}{l}\n",
       " median\\_vacc\\_rate\\\\\n",
       " <dbl>\\\\\n",
       "\\hline\n",
       "\t 100\\\\\n",
       "\\end{tabular}\n"
      ],
      "text/markdown": [
       "\n",
       "A tibble: 1 × 1\n",
       "\n",
       "| median_vacc_rate &lt;dbl&gt; |\n",
       "|---|\n",
       "| 100 |\n",
       "\n"
      ],
      "text/plain": [
       "  median_vacc_rate\n",
       "1 100             "
      ]
     },
     "metadata": {},
     "output_type": "display_data"
    }
   ],
   "source": [
    "north_carolina |> summarize(median_vacc_rate = median(overall))\n",
    "\n",
    "#yes, it is above the CDC recommended target."
   ]
  }
 ],
 "metadata": {
  "kernelspec": {
   "display_name": "bios512:R",
   "language": "R",
   "name": "conda-env-bios512-r"
  },
  "language_info": {
   "codemirror_mode": "r",
   "file_extension": ".r",
   "mimetype": "text/x-r-source",
   "name": "R",
   "pygments_lexer": "r",
   "version": "4.3.1"
  }
 },
 "nbformat": 4,
 "nbformat_minor": 5
}
